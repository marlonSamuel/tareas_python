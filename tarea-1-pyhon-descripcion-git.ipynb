{
 "cells": [
  {
   "cell_type": "markdown",
   "metadata": {},
   "source": [
    "# GIT\n",
    "* Git es un sisema de control de versiones para proyectos, nos ayuda a gestionar nuestros archivos de proyecto.\n",
    "\n",
    "* usando git mantenemos el control de nuestras versiones, se hace sencillo volver a una version anterior en caso de ser requerido.\n",
    "\n",
    "* Git hace sencilla la tarea de colaborar con otros participantes en el proyecto, gestionando y actualizando cambios de cada uno de ellos.\n",
    "\n",
    "\n",
    "### comandos basicos###\n",
    "* si queremos crear un nuevo repositorio de git.\n",
    "\n",
    "    * <tab>Se Crea un directorio nuevo.\n",
    "    * <tab>abrir directorio y ejecutar el comando **git init**\n",
    "\n",
    "* hacer un checkout a un repositorio.\n",
    "    * <tab> Crear una copia de un repositorio ejectuando el comando **git clone /path/to/repositorio**\n",
    "    * <tab> Crear una copia de un servidor ejecutamos ** git clone username@hots:/path/to/repositorio**\n",
    "\n",
    "* flujo de trabajo\n",
    "    * <tab> Tu repositorio local esta compuesto por tres \"árboles\" administrados por git. El primero es tu Directorio de trabajo que contiene los archivos, el segundo es el Index que actua como una zona intermedia, y el último es el HEAD que apunta al último commit realizado.\n",
    "    \n",
    "* Para registrar cambios realizados.\n",
    "    *<tab> se ejecutan los siguientes comandos **git add** luego  **git commit -m \"nombre commit\"** cambios se encuentran ahora de forma local para subir los cambios al servidor ejecutamos **git push origin master**\n",
    "    \n",
    "* Conectar nuestro repositorio local a repositorio remoto.\n",
    "    *<tab> Ejecutar los comandos git remote add origin < servidor > \n",
    "\n",
    "### Ramas.\n",
    "Al crear un repositorio la rama por default es la rama master, si queremos ejecutar tareas aisladas se crean nuevas ramas segun se necesite para el desarrollo y se funcionan cuando se teminen.\n",
    "\n",
    "* Ejemplo. Crear una nueva rama llamada tarea_python\n",
    "    *<tab> **git checkout -b tarea_python**\n",
    "    *<tab> si queremos volver a la rama principal ejecutamos **git checkout master**\n",
    "    *<tab> para eliminar la rama creada ejecutamos **git branch -d tarea_python**\n",
    "    *<tab> para que la rama este disponible para los demas ejecutamos **git push origin < branch >\n",
    " \n",
    "### Actualizar repositorio\n",
    "* para actualizar el repositorio ejectuamos **git pull origin master**"
   ]
  }
 ],
 "metadata": {
  "kernelspec": {
   "display_name": "Python 3",
   "language": "python",
   "name": "python3"
  },
  "language_info": {
   "codemirror_mode": {
    "name": "ipython",
    "version": 3
   },
   "file_extension": ".py",
   "mimetype": "text/x-python",
   "name": "python",
   "nbconvert_exporter": "python",
   "pygments_lexer": "ipython3",
   "version": "3.7.3"
  }
 },
 "nbformat": 4,
 "nbformat_minor": 2
}
